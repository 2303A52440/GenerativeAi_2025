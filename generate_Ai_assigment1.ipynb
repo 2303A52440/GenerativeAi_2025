{
  "nbformat": 4,
  "nbformat_minor": 0,
  "metadata": {
    "colab": {
      "provenance": [],
      "gpuType": "T4",
      "authorship_tag": "ABX9TyP5e3bhmBrR7YkkflGBTlz9",
      "include_colab_link": true
    },
    "kernelspec": {
      "name": "python3",
      "display_name": "Python 3"
    },
    "language_info": {
      "name": "python"
    },
    "accelerator": "GPU"
  },
  "cells": [
    {
      "cell_type": "markdown",
      "metadata": {
        "id": "view-in-github",
        "colab_type": "text"
      },
      "source": [
        "<a href=\"https://colab.research.google.com/github/2303A52440/GenerativeAi_2025/blob/main/generate_Ai_assigment1.ipynb\" target=\"_parent\"><img src=\"https://colab.research.google.com/assets/colab-badge.svg\" alt=\"Open In Colab\"/></a>"
      ]
    },
    {
      "cell_type": "code",
      "source": [
        "import numpy as np\n",
        "from sklearn.metrics import mean_absolute_error, mean_squared_error\n",
        "\n",
        "# Actual values and predicted values\n",
        "Y_actual = np.array([20, 30, 40, 50, 60])\n",
        "Y_pred = np.array([20.5, 30.3, 40.2, 50.6, 60.7])\n",
        "\n",
        "# Calculate error metrics from scratch\n",
        "MAE = np.mean(np.abs(Y_actual - Y_pred))\n",
        "MSE = np.mean((Y_actual - Y_pred) ** 2)\n",
        "RMSE = np.sqrt(MSE)\n",
        "\n",
        "print(\"From Scratch:\")\n",
        "print(f\"MAE: {MAE}\")\n",
        "print(f\"MSE: {MSE}\")\n",
        "print(f\"RMSE: {RMSE}\")\n",
        "\n",
        "# Calculate error metrics using scikit-learn\n",
        "MAE_lib = mean_absolute_error(Y_actual, Y_pred)\n",
        "MSE_lib = mean_squared_error(Y_actual, Y_pred)\n",
        "RMSE_lib = np.sqrt(MSE_lib)\n",
        "\n",
        "print(\"\\nUsing Libraries:\")\n",
        "print(f\"MAE (library): {MAE_lib}\")\n",
        "print(f\"MSE (library): {MSE_lib}\")\n",
        "print(f\"RMSE (library): {RMSE_lib}\")\n"
      ],
      "metadata": {
        "colab": {
          "base_uri": "https://localhost:8080/"
        },
        "id": "EXjtMDiGeDuy",
        "outputId": "1a638e01-e95b-49f0-843b-4b70c2a07388"
      },
      "execution_count": null,
      "outputs": [
        {
          "output_type": "stream",
          "name": "stdout",
          "text": [
            "From Scratch:\n",
            "MAE: 0.4600000000000016\n",
            "MSE: 0.24600000000000147\n",
            "RMSE: 0.49598387070549127\n",
            "\n",
            "Using Libraries:\n",
            "MAE (library): 0.4600000000000016\n",
            "MSE (library): 0.24600000000000147\n",
            "RMSE (library): 0.49598387070549127\n"
          ]
        }
      ]
    },
    {
      "source": [
        "import numpy as np # make sure to import numpy in this cell too!\n",
        "from sklearn.metrics import accuracy_score, precision_score, recall_score, f1_score, confusion_matrix, classification_report\n",
        "\n",
        "Y_actual = np.array([0, 0, 1, 1, 2, 0, 0, 0, 1, 0, 2, 0, 0, 1, 1, 2, 2, 1, 0, 2, 1, 0, 2, 2, 0, 2, 1, 2, 2, 2])\n",
        "Y_pred = np.array([0, 0, 1, 0, 2, 0, 0, 1, 1, 2, 2, 1, 0, 2, 1, 0, 2, 2, 0, 2, 1, 2, 2, 2, 0, 2, 1, 2, 2, 2])\n",
        "\n",
        "accuracy = accuracy_score(Y_actual, Y_pred)\n",
        "print(f\"Accuracy: {accuracy:.2f}\")\n",
        "\n",
        "precision = precision_score(Y_actual, Y_pred, average=None)\n",
        "for i in range(len(precision)):\n",
        "    print(f\"Class {i} - Precision: {precision[i]:.2f}\")\n",
        "\n",
        "recall = recall_score(Y_actual, Y_pred, average=None)\n",
        "for i in range(len(recall)):\n",
        "    print(f\"Class {i} - Recall: {recall[i]:.2f}\")\n",
        "\n",
        "f1 = f1_score(Y_actual, Y_pred, average=None)\n",
        "for i in range(len(f1)):\n",
        "    print(f\"Class {i} - F1-Score: {f1[i]:.2f}\")\n",
        "\n",
        "conf_matrix = confusion_matrix(Y_actual, Y_pred)\n",
        "print(\"\\nConfusion Matrix:\")\n",
        "print(conf_matrix)\n",
        "\n",
        "print(\"\\nDetailed Classification Report:\")\n",
        "print(classification_report(Y_actual, Y_pred))"
      ],
      "cell_type": "code",
      "metadata": {
        "colab": {
          "base_uri": "https://localhost:8080/"
        },
        "id": "2ZQy4iuVlPMv",
        "outputId": "13b7a4b6-99b3-4077-eb66-a0be4c0b3459"
      },
      "execution_count": 1,
      "outputs": [
        {
          "output_type": "stream",
          "name": "stdout",
          "text": [
            "Accuracy: 0.73\n",
            "Class 0 - Precision: 0.78\n",
            "Class 1 - Precision: 0.71\n",
            "Class 2 - Precision: 0.71\n",
            "Class 0 - Recall: 0.64\n",
            "Class 1 - Recall: 0.62\n",
            "Class 2 - Recall: 0.91\n",
            "Class 0 - F1-Score: 0.70\n",
            "Class 1 - F1-Score: 0.67\n",
            "Class 2 - F1-Score: 0.80\n",
            "\n",
            "Confusion Matrix:\n",
            "[[ 7  2  2]\n",
            " [ 1  5  2]\n",
            " [ 1  0 10]]\n",
            "\n",
            "Detailed Classification Report:\n",
            "              precision    recall  f1-score   support\n",
            "\n",
            "           0       0.78      0.64      0.70        11\n",
            "           1       0.71      0.62      0.67         8\n",
            "           2       0.71      0.91      0.80        11\n",
            "\n",
            "    accuracy                           0.73        30\n",
            "   macro avg       0.74      0.72      0.72        30\n",
            "weighted avg       0.74      0.73      0.73        30\n",
            "\n"
          ]
        }
      ]
    }
  ]
}