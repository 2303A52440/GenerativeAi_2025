{
  "nbformat": 4,
  "nbformat_minor": 0,
  "metadata": {
    "colab": {
      "private_outputs": true,
      "provenance": [],
      "authorship_tag": "ABX9TyN9Bkvzbd/6PnZ5+Zq1/mih",
      "include_colab_link": true
    },
    "kernelspec": {
      "name": "python3",
      "display_name": "Python 3"
    },
    "language_info": {
      "name": "python"
    }
  },
  "cells": [
    {
      "cell_type": "markdown",
      "metadata": {
        "id": "view-in-github",
        "colab_type": "text"
      },
      "source": [
        "<a href=\"https://colab.research.google.com/github/2303A52440/GenerativeAi_2025/blob/main/assignment5_1genai.ipynb\" target=\"_parent\"><img src=\"https://colab.research.google.com/assets/colab-badge.svg\" alt=\"Open In Colab\"/></a>"
      ]
    },
    {
      "cell_type": "code",
      "execution_count": null,
      "metadata": {
        "id": "7uItZlazy6Pi"
      },
      "outputs": [],
      "source": [
        "import numpy as np\n",
        "def sig(x): return 1 / (1 + np.exp(-x))\n",
        "def train(X, y, h=2, lr=0.1, epochs=10000):\n",
        "    np.random.seed(1)\n",
        "    w1, b1, w2, b2 = np.random.rand(2, h), np.random.rand(h), np.random.rand(h, 1), np.random.rand(1)\n",
        "    for _ in range(epochs):\n",
        "        h_out = sig(np.dot(X, w1) + b1)\n",
        "        y_out = np.dot(h_out, w2) + b2\n",
        "        err = y - y_out\n",
        "        w2 += np.dot(h_out.T, err) * lr\n",
        "        b2 += np.sum(err) * lr\n",
        "        w1 += np.dot(X.T, (np.dot(err, w2.T) * h_out * (1 - h_out))) * lr\n",
        "        b1 += np.sum((np.dot(err, w2.T) * h_out * (1 - h_out)), axis=0) * lr\n",
        "    return w1, b1, w2, b2\n",
        "\n",
        "def pred(X, w1, b1, w2, b2): return np.dot(sig(np.dot(X, w1) + b1), w2) + b2\n",
        "\n",
        "def mse(y, y_pred): return np.mean((y - y_pred) ** 2)\n",
        "\n",
        "X_train = np.array([[0.1, 0.2], [0.2, 0.3], [0.3, 0.4], [0.6, 0.7], [0.7, 0.8], [0.8, 0.9]])\n",
        "y_train = np.array([[0.3432], [0.349], [0.3548], [0.372], [0.3776], [0.3832]])\n",
        "w1, b1, w2, b2 = train(X_train, y_train)\n",
        "\n",
        "X_test = np.array([[0.4, 0.5], [0.5, 0.6]])\n",
        "y_test = np.array([[0.3606], [0.3663]])\n",
        "\n",
        "print(\"Train MSE:\", mse(y_train, pred(X_train, w1, b1, w2, b2)))\n",
        "print(\"Test MSE:\", mse(y_test, pred(X_test, w1, b1, w2, b2)))\n",
        "\n",
        "x_input = np.array([list(map(float, input(\"Enter x1 x2: \").split()))])\n",
        "print(\"Predicted:\", pred(x_input, w1, b1, w2, b2)[0][0])"
      ]
    }
  ]
}