{
  "nbformat": 4,
  "nbformat_minor": 0,
  "metadata": {
    "colab": {
      "private_outputs": true,
      "provenance": [],
      "authorship_tag": "ABX9TyN1+Co7wwHKSxyvDDQ3Rljt",
      "include_colab_link": true
    },
    "kernelspec": {
      "name": "python3",
      "display_name": "Python 3"
    },
    "language_info": {
      "name": "python"
    }
  },
  "cells": [
    {
      "cell_type": "markdown",
      "metadata": {
        "id": "view-in-github",
        "colab_type": "text"
      },
      "source": [
        "<a href=\"https://colab.research.google.com/github/2303A52440/GenerativeAi_2025/blob/main/ASSIGNMENT_4GENAI.ipynb\" target=\"_parent\"><img src=\"https://colab.research.google.com/assets/colab-badge.svg\" alt=\"Open In Colab\"/></a>"
      ]
    },
    {
      "cell_type": "code",
      "execution_count": null,
      "metadata": {
        "id": "MTV02hA62mQf"
      },
      "outputs": [],
      "source": [
        "import numpy as np\n",
        "\n",
        "\n",
        "X_train = np.array([[0.1, 0.2, 0.3], [0.2, 0.3, 0.4], [0.3, 0.4, 0.5], [0.5, 0.6, 0.7],\n",
        "                   [0.1, 0.3, 0.5], [0.2, 0.4, 0.6], [0.3, 0.5, 0.7], [0.4, 0.6, 0.8],\n",
        "                   [0.5, 0.7, 0.1]])\n",
        "y_train = np.array([0.14, 0.20, 0.26, 0.38, 0.22, 0.28, 0.34, 0.40, 0.22])\n",
        "\n",
        "\n",
        "\n",
        "W = np.random.rand(3)\n",
        "b = np.random.rand(1)\n",
        "\n",
        "\n",
        "learning_rate = 0.01\n",
        "epochs = 1000\n",
        "\n",
        "\n",
        "for epoch in range(epochs):\n",
        "    for i in range(len(X_train)):\n",
        "\n",
        "        y_pred = np.dot(X_train[i], W) + b\n",
        "        error = y_train[i] - y_pred\n",
        "\n",
        "        W = W + learning_rate * error * X_train[i]\n",
        "        b = b + learning_rate * error\n",
        "\n",
        "\n",
        "X_test = np.array([[0.6, 0.7, 0.8], [0.7, 0.8, 0.9]])\n",
        "y_test = np.array([0.44, 0.50])\n",
        "\n",
        "\n",
        "\n",
        "y_pred_test = np.dot(X_test, W) + b\n",
        "\n",
        "mse_train = np.mean((y_train - (np.dot(X_train, W) + b))**2)\n",
        "mse_test = np.mean((y_test - y_pred_test)**2)\n",
        "\n",
        "\n",
        "\n",
        "print(\"Mean Square Error (Training):\", mse_train)\n",
        "print(\"Mean Square Error (Test):\", mse_test)"
      ]
    },
    {
      "cell_type": "markdown",
      "source": [
        "(1 ponto) Design a simple ANN architecture with one input and one output layer (no hidden layer). Assume a linear activation function in the output layer.\n"
      ],
      "metadata": {
        "id": "ByGf1dmL2nKS"
      }
    },
    {
      "cell_type": "code",
      "source": [
        "x1 = float(input(\"Enter x1: \"))\n",
        "x2 = float(input(\"Enter x2: \"))\n",
        "x3 = float(input(\"Enter x3: \"))"
      ],
      "metadata": {
        "id": "QA9UnRI93VSS"
      },
      "execution_count": null,
      "outputs": []
    },
    {
      "cell_type": "code",
      "source": [
        "user_input = np.array([x1, x2, x3])\n",
        "predicted_output = np.dot(user_input, W) + b\n",
        "\n",
        "\n",
        "print(\"Predicted Output:\", predicted_output)\n",
        ""
      ],
      "metadata": {
        "id": "O1DrVWsJ3fZq"
      },
      "execution_count": null,
      "outputs": []
    },
    {
      "cell_type": "markdown",
      "source": [
        "(1 ponto) Design a simple ANN architecture with one input and one output layer (no hidden layer). Assume a sigmoid activation function shown in the equation 1 in the output layer."
      ],
      "metadata": {
        "id": "uldH1PjS314q"
      }
    },
    {
      "source": [
        "import numpy as np\n",
        "\n",
        "def sigmoid(x):\n",
        "  return 1 / (1 + np.exp(-x))\n",
        "\n",
        "def sigmoid_derivative(x):\n",
        "  return x * (1 - x)\n",
        "\n",
        "X_train = np.array([[0.1, 0.2, 0.3], [0.2, 0.3, 0.4], [0.3, 0.4, 0.5], [0.5, 0.6, 0.7],\n",
        "                   [0.1, 0.3, 0.5], [0.2, 0.4, 0.6], [0.3, 0.5, 0.7], [0.4, 0.6, 0.8],\n",
        "                   [0.5, 0.7, 0.1]])\n",
        "y_train = np.array([0.5349, 0.5498, 0.5646, 0.5939, 0.5548, 0.5695, 0.5842, 0.5987, 0.5548])\n",
        "\n",
        "X_test = np.array([[0.6, 0.7, 0.8], [0.7, 0.8, 0.9]])\n",
        "y_test = np.array([0.6083, 0.6225])\n",
        "\n",
        "W = np.random.rand(3)\n",
        "b = np.random.rand(1)\n",
        "\n",
        "learning_rate = 0.1\n",
        "epochs = 1000\n",
        "\n",
        "# The training loop should be indented within the 'for epoch in range(epochs):' block\n",
        "for epoch in range(epochs):\n",
        "    for i in range(len(X_train)):\n",
        "        z = np.dot(X_train[i], W) + b\n",
        "        y_pred = sigmoid(z)\n",
        "\n",
        "        error = y_train[i] - y_pred\n",
        "\n",
        "        d_output = error * sigmoid_derivative(y_pred)\n",
        "        d_hidden = d_output * W\n",
        "\n",
        "        W += learning_rate * d_output * X_train[i]\n",
        "        b += learning_rate * d_output\n",
        "\n",
        "mse_train = np.mean((y_train - sigmoid(np.dot(X_train, W) + b))**2)\n",
        "mse_test = np.mean((y_test - sigmoid(np.dot(X_test, W) + b))**2)\n",
        "\n",
        "print(\"Mean Square Error (Training):\", mse_train)\n",
        "print(\"Mean Square Error (Test):\", mse_test)"
      ],
      "cell_type": "code",
      "metadata": {
        "id": "NqJl6SRr4bxh"
      },
      "execution_count": null,
      "outputs": []
    },
    {
      "cell_type": "code",
      "source": [
        "x1 = float(input(\"Enter x1: \"))\n",
        "x2 = float(input(\"Enter x2: \"))\n",
        "x3 = float(input(\"Enter x3: \"))\n",
        ""
      ],
      "metadata": {
        "id": "UnirOaIg4gWK"
      },
      "execution_count": null,
      "outputs": []
    },
    {
      "cell_type": "code",
      "source": [
        "\n",
        "user_input = np.array([x1, x2, x3])\n",
        "predicted_output = sigmoid(np.dot(user_input, W) + b)\n",
        "\n",
        "\n",
        "print(\"Predicted Output:\", predicted_output)"
      ],
      "metadata": {
        "id": "JRXS19534vEZ"
      },
      "execution_count": null,
      "outputs": []
    }
  ]
}