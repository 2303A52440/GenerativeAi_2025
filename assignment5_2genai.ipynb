{
  "nbformat": 4,
  "nbformat_minor": 0,
  "metadata": {
    "colab": {
      "private_outputs": true,
      "provenance": [],
      "toc_visible": true,
      "authorship_tag": "ABX9TyP/CWDoLY8rL9RUu5WHKZH4",
      "include_colab_link": true
    },
    "kernelspec": {
      "name": "python3",
      "display_name": "Python 3"
    },
    "language_info": {
      "name": "python"
    }
  },
  "cells": [
    {
      "cell_type": "markdown",
      "metadata": {
        "id": "view-in-github",
        "colab_type": "text"
      },
      "source": [
        "<a href=\"https://colab.research.google.com/github/2303A52440/GenerativeAi_2025/blob/main/assignment5_2genai.ipynb\" target=\"_parent\"><img src=\"https://colab.research.google.com/assets/colab-badge.svg\" alt=\"Open In Colab\"/></a>"
      ]
    },
    {
      "source": [
        "import numpy as np\n",
        "\n",
        "def sigmoid(x):\n",
        "    return 1 / (1 + np.exp(-x))\n",
        "\n",
        "def sigmoid_derivative(x):\n",
        "    return x * (1 - x)\n",
        "\n",
        "X_train = np.array([[0.2, 0.1], [0.3, 0.2], [0.4, 0.3], [0.7, 0.6], [0.8, 0.7], [0.9, 0.8]])\n",
        "X_test = np.array([[0.5, 0.4], [0.6, 0.5]])\n",
        "y_test = np.array([[0.3615], [0.3672]])\n",
        "# Define y_train. This was the missing piece. We need target values for the training data.\n",
        "y_train = np.array([[0.3], [0.4], [0.5], [0.8], [0.9], [1.0]])\n",
        "\n",
        "np.random.seed(0)\n",
        "input_neurons = 2\n",
        "hidden_neurons = 3\n",
        "output_neurons = 1\n",
        "\n",
        "W1 = np.random.rand(input_neurons, hidden_neurons)\n",
        "b1 = np.random.rand(1, hidden_neurons)\n",
        "W2 = np.random.rand(hidden_neurons, output_neurons)\n",
        "b2 = np.random.rand(1, output_neurons)\n",
        "\n",
        "learning_rate = 0.1\n",
        "epochs = 5000\n",
        "\n",
        "for epoch in range(epochs):\n",
        "\n",
        "    hidden_input = np.dot(X_train, W1) + b1\n",
        "    hidden_output = sigmoid(hidden_input)\n",
        "    final_input = np.dot(hidden_output, W2) + b2\n",
        "    final_output = final_input\n",
        "\n",
        "    # Calculate the error.\n",
        "    error = y_train - final_output\n",
        "    d_output = error\n",
        "    d_hidden = d_output.dot(W2.T) * sigmoid_derivative(hidden_output)\n",
        "\n",
        "    W2 += hidden_output.T.dot(d_output) * learning_rate\n",
        "    b2 += np.sum(d_output, axis=0, keepdims=True) * learning_rate\n",
        "    W1 += X_train.T.dot(d_hidden) * learning_rate\n",
        "    b1 += np.sum(d_hidden, axis=0, keepdims=True) * learning_rate\n",
        "\n",
        "def mse(y_true, y_pred):\n",
        "    return np.mean((y_true - y_pred) ** 2)\n",
        "\n",
        "train_predictions = np.dot(sigmoid(np.dot(X_train, W1) + b1), W2) + b2\n",
        "test_predictions = np.dot(sigmoid(np.dot(X_test, W1) + b1), W2) + b2\n",
        "\n",
        "print(\"Training MSE:\", mse(y_train, train_predictions))\n",
        "print(\"Testing MSE:\", mse(y_test, test_predictions))\n",
        "\n",
        "x1, x2 = map(float, input(\"Enter x1 and x2: \").split())\n",
        "user_input = np.array([[x1, x2]])\n",
        "user_output = np.dot(sigmoid(np.dot(user_input, W1) + b1), W2) + b2\n",
        "print(\"Predicted output:\", user_output[0][0])"
      ],
      "cell_type": "code",
      "metadata": {
        "id": "46PT4jh80Rq5"
      },
      "execution_count": null,
      "outputs": []
    }
  ]
}