{
  "nbformat": 4,
  "nbformat_minor": 0,
  "metadata": {
    "colab": {
      "private_outputs": true,
      "provenance": [],
      "authorship_tag": "ABX9TyM6nj4wwhh+xmHEVo39QD1x"
    },
    "kernelspec": {
      "name": "python3",
      "display_name": "Python 3"
    },
    "language_info": {
      "name": "python"
    }
  },
  "cells": [
    {
      "cell_type": "markdown",
      "source": [
        "1.Develop mathematical modeling for the given case study and find solution using Python.\n",
        "\n",
        "Consider a chocolate manufacturing company that produces only two types of chocolate i.e. A and B. Both the chocolates require Milk and Choco only. To manufacture each unit of A and B, the following quantities required: Each unit of A requires 1 unit of Milk and 3 units of Choco Each unit of B requires 1 unit of Milk and 2 units of Choco The company kitchen has a total of 5 units of Milk and 12 units of Choco. On each sale, the company makes a profit of Rs 6 per unit A sold and Rs 5 per unit B sold. Now, the company wishes to maximize its profit. How many units of A and B should it produce respectively?"
      ],
      "metadata": {
        "id": "BQDlMnIXiFJy"
      }
    },
    {
      "cell_type": "code",
      "source": [
        "import numpy as np\n",
        "from scipy.optimize import linprog\n",
        "c = [-6, -5]\n",
        "A = [[1, 1], [3, 2]]\n",
        "b = [5, 12]\n",
        "x0_bounds = (0, None)\n",
        "x1_bounds = (0, None)\n",
        "result = linprog(c, A_ub=A, b_ub=b, bounds=[x0_bounds, x1_bounds], method='highs')\n",
        "print(\"Status:\", result.message)\n",
        "print(\"Optimal Solution:\")\n",
        "print(\"No of A type chocolete:\", result.x[0])\n",
        "print(\"No of B type chocolete:\", result.x[1])\n",
        "print(\"Maximum Profit:\", -result.fun)"
      ],
      "metadata": {
        "id": "GiUHhiUqiU3p"
      },
      "execution_count": null,
      "outputs": []
    },
    {
      "cell_type": "markdown",
      "source": [
        "2.Develop mathematical modeling for the given case study and find solution using Python\n",
        "\n",
        "A farmer has recently acquired a 110 hectares piece of land. He has decided to grow Wheat and barley on that land. Due to the quality of the sun and the region's excellent climate, the entire production of Wheat and Barley can be sold. He wants to know how to plant each variety in the 110 hectares, given the costs, net profits and labor requirements according to the data shown below: Onana Veeramsett tty)Crop Cost (Rs/Hec) Profit (Price/Hec) Man-days/Hec Wheat 7000 50 10 Barley 2000 120 30 The farmer has a budget of Rs. 7,00,000 and availability of 1,200 man-days during the planning horizon. Find the optimal solution and the optimal value."
      ],
      "metadata": {
        "id": "ZeE-CLPWiz7T"
      }
    },
    {
      "cell_type": "code",
      "source": [
        "from scipy.optimize import linprog\n",
        "c = [-50, -120]\n",
        "A=[[1,1],[7000,2000],[10,30]]\n",
        "b=[110,700000,1200]\n",
        "x_bounds = (0, None)\n",
        "y_bounds = (0, None)\n",
        "result = linprog(c, A_ub=A, b_ub=b, bounds=[x_bounds, y_bounds], method='highs')\n",
        "print(\"Status:\", result.message)\n",
        "print(\"Optimal Solution:\")\n",
        "print(\"Hectares of Wheat:\", result.x[0])\n",
        "print(\"Hectares of Barley:\", result.x[1])\n",
        "print(\"Maximum Profit:\", -result.fun)"
      ],
      "metadata": {
        "id": "68ddJ5CHi6na"
      },
      "execution_count": null,
      "outputs": []
    }
  ]
}